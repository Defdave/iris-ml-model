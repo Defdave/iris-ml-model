{
 "cells": [
  {
   "cell_type": "code",
   "execution_count": 4,
   "id": "6841711e-18e1-4bc4-bd34-dd7ea6a31495",
   "metadata": {},
   "outputs": [],
   "source": [
    "import numpy as np\n",
    "import matplotlib.pyplot as plt\n",
    "from sklearn.datasets import make_circles\n",
    "from sklearn.neural_network import MLPClassifier\n",
    "import ipywidgets as widgets\n",
    "from IPython.display import display\n",
    "from ipywidgets import interactive"
   ]
  },
  {
   "cell_type": "code",
   "execution_count": 3,
   "id": "42af1423-b6db-4c97-912c-9712b31b8fe7",
   "metadata": {},
   "outputs": [
    {
     "name": "stdout",
     "output_type": "stream",
     "text": [
      "testing\n"
     ]
    }
   ],
   "source": [
    "def update_plot(hidden_layer_size):\n",
    "    #Generate synthetic data (circle)\n",
    "    #X, y = make_circles(n_samples=300, noise=0.1, factor=0.5, random_state=0)\n",
    "\n",
    "    # Cretae a multi-layer perceptron (MLP) classifier\n",
    "    clf = MLPClassifier(hidden_layer_sizes=(hidden_layer_size,), activation='relu', max_iter=3000, random_state=1)\n",
    "    # Fit the classifier to the data\n",
    "    clf.fit(X, y)\n",
    "\n",
    "    # Create a grid of points for visualization\n",
    "    # There are 1D arrays of 100 values each, representing the x and y coordinates of the grid.\n",
    "    "
   ]
  },
  {
   "cell_type": "code",
   "execution_count": null,
   "id": "575a7aa5-ec4b-453f-bf2e-657a852d2449",
   "metadata": {},
   "outputs": [],
   "source": []
  }
 ],
 "metadata": {
  "kernelspec": {
   "display_name": "Python [conda env:base] *",
   "language": "python",
   "name": "conda-base-py"
  },
  "language_info": {
   "codemirror_mode": {
    "name": "ipython",
    "version": 3
   },
   "file_extension": ".py",
   "mimetype": "text/x-python",
   "name": "python",
   "nbconvert_exporter": "python",
   "pygments_lexer": "ipython3",
   "version": "3.13.5"
  }
 },
 "nbformat": 4,
 "nbformat_minor": 5
}
